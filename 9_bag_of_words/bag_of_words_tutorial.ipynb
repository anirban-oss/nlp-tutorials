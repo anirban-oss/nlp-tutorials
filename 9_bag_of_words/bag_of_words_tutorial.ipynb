{
 "cells": [
  {
   "cell_type": "markdown",
   "id": "b062f314",
   "metadata": {},
   "source": [
    "<h2 align='center'>NLP Tutorial: Text Representation - Bag Of Words (BOW)</h2>"
   ]
  },
  {
   "cell_type": "code",
   "execution_count": 1,
   "id": "54f8d7a3",
   "metadata": {},
   "outputs": [],
   "source": [
    "import pandas as pd\n",
    "import numpy as np"
   ]
  },
  {
   "cell_type": "code",
   "execution_count": 2,
   "id": "e8912b1f",
   "metadata": {},
   "outputs": [
    {
     "data": {
      "text/html": [
       "<div>\n",
       "<style scoped>\n",
       "    .dataframe tbody tr th:only-of-type {\n",
       "        vertical-align: middle;\n",
       "    }\n",
       "\n",
       "    .dataframe tbody tr th {\n",
       "        vertical-align: top;\n",
       "    }\n",
       "\n",
       "    .dataframe thead th {\n",
       "        text-align: right;\n",
       "    }\n",
       "</style>\n",
       "<table border=\"1\" class=\"dataframe\">\n",
       "  <thead>\n",
       "    <tr style=\"text-align: right;\">\n",
       "      <th></th>\n",
       "      <th>Category</th>\n",
       "      <th>Message</th>\n",
       "    </tr>\n",
       "  </thead>\n",
       "  <tbody>\n",
       "    <tr>\n",
       "      <th>0</th>\n",
       "      <td>ham</td>\n",
       "      <td>Go until jurong point, crazy.. Available only ...</td>\n",
       "    </tr>\n",
       "    <tr>\n",
       "      <th>1</th>\n",
       "      <td>ham</td>\n",
       "      <td>Ok lar... Joking wif u oni...</td>\n",
       "    </tr>\n",
       "    <tr>\n",
       "      <th>2</th>\n",
       "      <td>spam</td>\n",
       "      <td>Free entry in 2 a wkly comp to win FA Cup fina...</td>\n",
       "    </tr>\n",
       "    <tr>\n",
       "      <th>3</th>\n",
       "      <td>ham</td>\n",
       "      <td>U dun say so early hor... U c already then say...</td>\n",
       "    </tr>\n",
       "    <tr>\n",
       "      <th>4</th>\n",
       "      <td>ham</td>\n",
       "      <td>Nah I don't think he goes to usf, he lives aro...</td>\n",
       "    </tr>\n",
       "  </tbody>\n",
       "</table>\n",
       "</div>"
      ],
      "text/plain": [
       "  Category                                            Message\n",
       "0      ham  Go until jurong point, crazy.. Available only ...\n",
       "1      ham                      Ok lar... Joking wif u oni...\n",
       "2     spam  Free entry in 2 a wkly comp to win FA Cup fina...\n",
       "3      ham  U dun say so early hor... U c already then say...\n",
       "4      ham  Nah I don't think he goes to usf, he lives aro..."
      ]
     },
     "execution_count": 2,
     "metadata": {},
     "output_type": "execute_result"
    }
   ],
   "source": [
    "df = pd.read_csv(\"spam.csv\")\n",
    "df.head()"
   ]
  },
  {
   "cell_type": "code",
   "execution_count": 3,
   "id": "e4f5ae86",
   "metadata": {},
   "outputs": [
    {
     "data": {
      "text/plain": [
       "ham     4825\n",
       "spam     747\n",
       "Name: Category, dtype: int64"
      ]
     },
     "execution_count": 3,
     "metadata": {},
     "output_type": "execute_result"
    }
   ],
   "source": [
    "df.Category.value_counts()"
   ]
  },
  {
   "cell_type": "code",
   "execution_count": 4,
   "id": "ce3d207b",
   "metadata": {},
   "outputs": [],
   "source": [
    "df['spam'] = df['Category'].apply(lambda x: 1 if x =='spam' else 0)"
   ]
  },
  {
   "cell_type": "code",
   "execution_count": 5,
   "id": "6b665e00",
   "metadata": {},
   "outputs": [
    {
     "data": {
      "text/plain": [
       "(5572, 3)"
      ]
     },
     "execution_count": 5,
     "metadata": {},
     "output_type": "execute_result"
    }
   ],
   "source": [
    "df.shape"
   ]
  },
  {
   "cell_type": "code",
   "execution_count": 6,
   "id": "0fdd3b0c",
   "metadata": {
    "scrolled": true
   },
   "outputs": [
    {
     "data": {
      "text/html": [
       "<div>\n",
       "<style scoped>\n",
       "    .dataframe tbody tr th:only-of-type {\n",
       "        vertical-align: middle;\n",
       "    }\n",
       "\n",
       "    .dataframe tbody tr th {\n",
       "        vertical-align: top;\n",
       "    }\n",
       "\n",
       "    .dataframe thead th {\n",
       "        text-align: right;\n",
       "    }\n",
       "</style>\n",
       "<table border=\"1\" class=\"dataframe\">\n",
       "  <thead>\n",
       "    <tr style=\"text-align: right;\">\n",
       "      <th></th>\n",
       "      <th>Category</th>\n",
       "      <th>Message</th>\n",
       "      <th>spam</th>\n",
       "    </tr>\n",
       "  </thead>\n",
       "  <tbody>\n",
       "    <tr>\n",
       "      <th>0</th>\n",
       "      <td>ham</td>\n",
       "      <td>Go until jurong point, crazy.. Available only ...</td>\n",
       "      <td>0</td>\n",
       "    </tr>\n",
       "    <tr>\n",
       "      <th>1</th>\n",
       "      <td>ham</td>\n",
       "      <td>Ok lar... Joking wif u oni...</td>\n",
       "      <td>0</td>\n",
       "    </tr>\n",
       "    <tr>\n",
       "      <th>2</th>\n",
       "      <td>spam</td>\n",
       "      <td>Free entry in 2 a wkly comp to win FA Cup fina...</td>\n",
       "      <td>1</td>\n",
       "    </tr>\n",
       "    <tr>\n",
       "      <th>3</th>\n",
       "      <td>ham</td>\n",
       "      <td>U dun say so early hor... U c already then say...</td>\n",
       "      <td>0</td>\n",
       "    </tr>\n",
       "    <tr>\n",
       "      <th>4</th>\n",
       "      <td>ham</td>\n",
       "      <td>Nah I don't think he goes to usf, he lives aro...</td>\n",
       "      <td>0</td>\n",
       "    </tr>\n",
       "  </tbody>\n",
       "</table>\n",
       "</div>"
      ],
      "text/plain": [
       "  Category                                            Message  spam\n",
       "0      ham  Go until jurong point, crazy.. Available only ...     0\n",
       "1      ham                      Ok lar... Joking wif u oni...     0\n",
       "2     spam  Free entry in 2 a wkly comp to win FA Cup fina...     1\n",
       "3      ham  U dun say so early hor... U c already then say...     0\n",
       "4      ham  Nah I don't think he goes to usf, he lives aro...     0"
      ]
     },
     "execution_count": 6,
     "metadata": {},
     "output_type": "execute_result"
    }
   ],
   "source": [
    "df.head()"
   ]
  },
  {
   "cell_type": "markdown",
   "id": "c14da82f",
   "metadata": {},
   "source": [
    "<h3>Train test split</h3>"
   ]
  },
  {
   "cell_type": "code",
   "execution_count": 7,
   "id": "55c57d7e",
   "metadata": {},
   "outputs": [],
   "source": [
    "from sklearn.model_selection import train_test_split\n",
    "\n",
    "X_train, X_test, y_train, y_test = train_test_split(df.Message, df.spam, test_size=0.2)"
   ]
  },
  {
   "cell_type": "code",
   "execution_count": 8,
   "id": "0c434635",
   "metadata": {},
   "outputs": [
    {
     "data": {
      "text/plain": [
       "(4457,)"
      ]
     },
     "execution_count": 8,
     "metadata": {},
     "output_type": "execute_result"
    }
   ],
   "source": [
    "X_train.shape"
   ]
  },
  {
   "cell_type": "code",
   "execution_count": 9,
   "id": "0322e41b",
   "metadata": {},
   "outputs": [
    {
     "data": {
      "text/plain": [
       "(1115,)"
      ]
     },
     "execution_count": 9,
     "metadata": {},
     "output_type": "execute_result"
    }
   ],
   "source": [
    "X_test.shape"
   ]
  },
  {
   "cell_type": "code",
   "execution_count": 10,
   "id": "2b8afdd0",
   "metadata": {},
   "outputs": [
    {
     "data": {
      "text/plain": [
       "pandas.core.series.Series"
      ]
     },
     "execution_count": 10,
     "metadata": {},
     "output_type": "execute_result"
    }
   ],
   "source": [
    "type(X_train)"
   ]
  },
  {
   "cell_type": "code",
   "execution_count": 11,
   "id": "4c31562f",
   "metadata": {},
   "outputs": [
    {
     "name": "stderr",
     "output_type": "stream",
     "text": [
      "/tmp/ipykernel_7380/2167669864.py:1: FutureWarning: The behavior of `series[i:j]` with an integer-dtype index is deprecated. In a future version, this will be treated as *label-based* indexing, consistent with e.g. `series[i]` lookups. To retain the old behavior, use `series.iloc[i:j]`. To get the future behavior, use `series.loc[i:j]`.\n",
      "  X_train[:4]\n"
     ]
    },
    {
     "data": {
      "text/plain": [
       "3008    Ah you see. You have to be in the lingo. I wil...\n",
       "1510    When u love someone Dont make them to love u a...\n",
       "247                        I asked you to call him now ok\n",
       "1170    Msgs r not time pass.They silently say that I ...\n",
       "Name: Message, dtype: object"
      ]
     },
     "execution_count": 11,
     "metadata": {},
     "output_type": "execute_result"
    }
   ],
   "source": [
    "X_train[:4]"
   ]
  },
  {
   "cell_type": "code",
   "execution_count": 12,
   "id": "425d18a6",
   "metadata": {},
   "outputs": [
    {
     "data": {
      "text/plain": [
       "pandas.core.series.Series"
      ]
     },
     "execution_count": 12,
     "metadata": {},
     "output_type": "execute_result"
    }
   ],
   "source": [
    "type(y_train)"
   ]
  },
  {
   "cell_type": "code",
   "execution_count": 13,
   "id": "0a441180",
   "metadata": {},
   "outputs": [
    {
     "name": "stderr",
     "output_type": "stream",
     "text": [
      "/tmp/ipykernel_7380/4291057761.py:1: FutureWarning: The behavior of `series[i:j]` with an integer-dtype index is deprecated. In a future version, this will be treated as *label-based* indexing, consistent with e.g. `series[i]` lookups. To retain the old behavior, use `series.iloc[i:j]`. To get the future behavior, use `series.loc[i:j]`.\n",
      "  y_train[:4]\n"
     ]
    },
    {
     "data": {
      "text/plain": [
       "3008    0\n",
       "1510    0\n",
       "247     0\n",
       "1170    0\n",
       "Name: spam, dtype: int64"
      ]
     },
     "execution_count": 13,
     "metadata": {},
     "output_type": "execute_result"
    }
   ],
   "source": [
    "y_train[:4]"
   ]
  },
  {
   "cell_type": "code",
   "execution_count": 14,
   "id": "0144b67b",
   "metadata": {
    "scrolled": true
   },
   "outputs": [
    {
     "data": {
      "text/plain": [
       "numpy.ndarray"
      ]
     },
     "execution_count": 14,
     "metadata": {},
     "output_type": "execute_result"
    }
   ],
   "source": [
    "type(X_train.values)"
   ]
  },
  {
   "cell_type": "markdown",
   "id": "b7d2c01f",
   "metadata": {},
   "source": [
    "<h3>Create bag of words representation using CountVectorizer</h3>"
   ]
  },
  {
   "cell_type": "code",
   "execution_count": 15,
   "id": "41a212bd",
   "metadata": {},
   "outputs": [
    {
     "data": {
      "text/plain": [
       "<4457x7748 sparse matrix of type '<class 'numpy.int64'>'\n",
       "\twith 59187 stored elements in Compressed Sparse Row format>"
      ]
     },
     "execution_count": 15,
     "metadata": {},
     "output_type": "execute_result"
    }
   ],
   "source": [
    "from sklearn.feature_extraction.text import CountVectorizer\n",
    "\n",
    "v = CountVectorizer()\n",
    "\n",
    "X_train_cv = v.fit_transform(X_train.values)\n",
    "X_train_cv"
   ]
  },
  {
   "cell_type": "code",
   "execution_count": 16,
   "id": "30a01ec3",
   "metadata": {},
   "outputs": [
    {
     "data": {
      "text/plain": [
       "array([0, 0, 0, ..., 0, 0, 0])"
      ]
     },
     "execution_count": 16,
     "metadata": {},
     "output_type": "execute_result"
    }
   ],
   "source": [
    "X_train_cv.toarray()[:2][0]"
   ]
  },
  {
   "cell_type": "code",
   "execution_count": 17,
   "id": "e3846715",
   "metadata": {},
   "outputs": [
    {
     "data": {
      "text/plain": [
       "(4457, 7748)"
      ]
     },
     "execution_count": 17,
     "metadata": {},
     "output_type": "execute_result"
    }
   ],
   "source": [
    "X_train_cv.shape"
   ]
  },
  {
   "cell_type": "code",
   "execution_count": 18,
   "id": "12f55cc1",
   "metadata": {},
   "outputs": [
    {
     "data": {
      "text/plain": [
       "'chastity'"
      ]
     },
     "execution_count": 18,
     "metadata": {},
     "output_type": "execute_result"
    }
   ],
   "source": [
    "v.get_feature_names_out()[1771]"
   ]
  },
  {
   "cell_type": "code",
   "execution_count": 19,
   "id": "7ed0a094",
   "metadata": {},
   "outputs": [
    {
     "data": {
      "text/plain": [
       "{'ah': 878,\n",
       " 'you': 7707,\n",
       " 'see': 6006,\n",
       " 'have': 3394,\n",
       " 'to': 6938,\n",
       " 'be': 1284,\n",
       " 'in': 3676,\n",
       " 'the': 6819,\n",
       " 'lingo': 4167,\n",
       " 'will': 7536,\n",
       " 'let': 4122,\n",
       " 'know': 3996,\n",
       " 'wot': 7618,\n",
       " 'on': 4955,\n",
       " 'earth': 2541,\n",
       " 'it': 3792,\n",
       " 'is': 3781,\n",
       " 'when': 7498,\n",
       " 'has': 3381,\n",
       " 'finished': 2893,\n",
       " 'making': 4366,\n",
       " 'love': 4262,\n",
       " 'someone': 6314,\n",
       " 'dont': 2445,\n",
       " 'make': 4362,\n",
       " 'them': 6827,\n",
       " 'as': 1098,\n",
       " 'much': 4665,\n",
       " 'do': 2408,\n",
       " 'but': 1605,\n",
       " 'so': 6297,\n",
       " 'that': 6815,\n",
       " 'they': 6844,\n",
       " 'want': 7394,\n",
       " 'loved': 4263,\n",
       " 'by': 1619,\n",
       " 'anyone': 1006,\n",
       " 'except': 2725,\n",
       " 'gud': 3303,\n",
       " 'nit': 4815,\n",
       " 'asked': 1110,\n",
       " 'call': 1633,\n",
       " 'him': 3473,\n",
       " 'now': 4859,\n",
       " 'ok': 4937,\n",
       " 'msgs': 4654,\n",
       " 'not': 4849,\n",
       " 'time': 6907,\n",
       " 'pass': 5112,\n",
       " 'silently': 6184,\n",
       " 'say': 5944,\n",
       " 'am': 942,\n",
       " 'thinking': 6854,\n",
       " 'of': 4913,\n",
       " 'right': 5796,\n",
       " 'and': 970,\n",
       " 'also': 935,\n",
       " 'think': 6851,\n",
       " 'me': 4445,\n",
       " 'at': 1129,\n",
       " 'least': 4097,\n",
       " 'moment': 4593,\n",
       " 'gd': 3128,\n",
       " 'nt': 4866,\n",
       " 'swt': 6675,\n",
       " 'drms': 2491,\n",
       " 'shesil': 6102,\n",
       " 'funk': 3077,\n",
       " 'up': 7194,\n",
       " 'ur': 7211,\n",
       " 'fone': 2958,\n",
       " 'with': 7563,\n",
       " 'weekly': 7460,\n",
       " 'new': 4786,\n",
       " 'tone': 6965,\n",
       " 'reply': 5730,\n",
       " 'tones2u': 6967,\n",
       " 'this': 6859,\n",
       " 'text': 6789,\n",
       " 'www': 7647,\n",
       " 'ringtones': 5806,\n",
       " 'co': 1893,\n",
       " 'uk': 7131,\n",
       " 'original': 5011,\n",
       " 'best': 1343,\n",
       " 'tones': 6966,\n",
       " '3gbp': 460,\n",
       " 'network': 4778,\n",
       " 'operator': 4983,\n",
       " 'rates': 5589,\n",
       " 'apply': 1033,\n",
       " 'freemsg': 3017,\n",
       " 'why': 7521,\n",
       " 'haven': 3396,\n",
       " 'replied': 5728,\n",
       " 'my': 4695,\n",
       " 'randy': 5582,\n",
       " 'sexy': 6065,\n",
       " 'female': 2847,\n",
       " 'live': 4189,\n",
       " 'local': 4205,\n",
       " 'luv': 4302,\n",
       " 'hear': 3416,\n",
       " 'from': 3049,\n",
       " 'netcollex': 4774,\n",
       " 'ltd': 4286,\n",
       " '08700621170150p': 71,\n",
       " 'per': 5157,\n",
       " 'msg': 4648,\n",
       " 'stop': 6509,\n",
       " 'end': 2614,\n",
       " 'fyi': 3087,\n",
       " 'taking': 6704,\n",
       " 'quick': 5546,\n",
       " 'shower': 6151,\n",
       " 'epsilon': 2654,\n",
       " 'like': 4148,\n",
       " 'lt': 4285,\n",
       " 'gt': 3298,\n",
       " 'min': 4516,\n",
       " 'beerage': 1309,\n",
       " 'get': 3152,\n",
       " 'door': 2448,\n",
       " 'here': 3451,\n",
       " 'keeping': 3944,\n",
       " 'away': 1180,\n",
       " 'hi': 3463,\n",
       " 'wkend': 7572,\n",
       " 'journey': 3890,\n",
       " 'terrible': 6780,\n",
       " 'wk': 7571,\n",
       " 'good': 3219,\n",
       " 'huge': 3580,\n",
       " 'back': 1205,\n",
       " 'log': 4211,\n",
       " 'marking': 4399,\n",
       " 'yeah': 7683,\n",
       " 'sure': 6640,\n",
       " 'thing': 6849,\n",
       " 'mate': 4417,\n",
       " 'haunt': 3390,\n",
       " 'got': 3236,\n",
       " 'all': 920,\n",
       " 'stuff': 6557,\n",
       " 'sorted': 6348,\n",
       " 'im': 3652,\n",
       " 'going': 3207,\n",
       " 'sound': 6354,\n",
       " 'anyway': 1012,\n",
       " 'promoting': 5470,\n",
       " 'hex': 3458,\n",
       " 'for': 2969,\n",
       " 'way': 7429,\n",
       " 'who': 7513,\n",
       " 'number': 4875,\n",
       " 'joke': 3879,\n",
       " 'better': 1348,\n",
       " 'made': 4341,\n",
       " 'friday': 3028,\n",
       " 'stuffed': 6559,\n",
       " 'myself': 4698,\n",
       " 'pig': 5225,\n",
       " 'yesterday': 7695,\n",
       " 'feel': 2836,\n",
       " 'bleh': 1406,\n",
       " 'its': 3800,\n",
       " 'writhing': 7631,\n",
       " 'pain': 5069,\n",
       " 'kind': 3975,\n",
       " 'goodmorning': 3223,\n",
       " 'today': 6944,\n",
       " 'late': 4063,\n",
       " 'gas': 3114,\n",
       " 'station': 6470,\n",
       " 'go': 3196,\n",
       " 'there': 6836,\n",
       " 'tick': 6894,\n",
       " 'babe': 1196,\n",
       " 'th': 6802,\n",
       " 'gower': 3246,\n",
       " 'which': 7507,\n",
       " 'where': 7502,\n",
       " 'how': 3559,\n",
       " 'man': 4372,\n",
       " 'wales': 7375,\n",
       " 'ill': 3649,\n",
       " 'morrow': 4620,\n",
       " 'was': 7408,\n",
       " 'random': 5580,\n",
       " 'xy': 7667,\n",
       " 'car': 1677,\n",
       " 'picking': 5215,\n",
       " 'textbuddy': 6793,\n",
       " 'chat': 1772,\n",
       " 'horny': 3537,\n",
       " 'guys': 3319,\n",
       " 'area': 1061,\n",
       " 'just': 3910,\n",
       " '25p': 370,\n",
       " 'free': 3013,\n",
       " 'receive': 5637,\n",
       " 'search': 5989,\n",
       " 'postcode': 5343,\n",
       " 'or': 4992,\n",
       " 'gaytextbuddy': 3122,\n",
       " 'com': 1919,\n",
       " 'txt': 7104,\n",
       " 'one': 4961,\n",
       " 'name': 4712,\n",
       " '89693': 715,\n",
       " '08715500022': 128,\n",
       " 'rpl': 5845,\n",
       " 'cnl': 1890,\n",
       " 'havent': 3397,\n",
       " 'stuck': 6548,\n",
       " 'orchard': 4998,\n",
       " 'dad': 2170,\n",
       " 'dinner': 2363,\n",
       " 'leh': 4108,\n",
       " 'tonight': 6972,\n",
       " 'poking': 5299,\n",
       " 'everyday': 2701,\n",
       " 'teach': 6739,\n",
       " 'canada': 1658,\n",
       " 'abi': 754,\n",
       " 'are': 1060,\n",
       " 'saying': 5947,\n",
       " 'mystery': 4699,\n",
       " 'solved': 6309,\n",
       " 'opened': 4979,\n",
       " 'email': 2600,\n",
       " 'he': 3405,\n",
       " 'sent': 6041,\n",
       " 'another': 991,\n",
       " 'batch': 1258,\n",
       " 'isn': 3788,\n",
       " 'sweetie': 6665,\n",
       " 'under': 7152,\n",
       " 'sea': 5988,\n",
       " 'lays': 4081,\n",
       " 'rock': 5820,\n",
       " 'an': 965,\n",
       " 'envelope': 2650,\n",
       " 'paper': 5085,\n",
       " 'words': 7601,\n",
       " 'arr': 1084,\n",
       " 'birthday': 1384,\n",
       " 'wish': 7556,\n",
       " 'more': 4613,\n",
       " 'oscar': 5016,\n",
       " 'gudnite': 3304,\n",
       " 'tc': 6734,\n",
       " 'practice': 5369,\n",
       " '09066362231': 228,\n",
       " 'urgent': 7215,\n",
       " 'your': 7713,\n",
       " 'mobile': 4574,\n",
       " 'no': 4820,\n",
       " '07xxxxxxxxx': 44,\n",
       " 'won': 7588,\n",
       " '000': 1,\n",
       " 'bonus': 1447,\n",
       " 'caller': 1640,\n",
       " 'prize': 5435,\n",
       " '02': 8,\n",
       " '06': 18,\n",
       " '03': 14,\n",
       " '2nd': 404,\n",
       " 'attempt': 1140,\n",
       " 'reach': 5605,\n",
       " 'asap': 1100,\n",
       " 'basically': 1255,\n",
       " 'any': 1003,\n",
       " 'next': 4793,\n",
       " 'week': 7456,\n",
       " 'can': 1657,\n",
       " 'mom': 4592,\n",
       " 'amp': 958,\n",
       " 'before': 1312,\n",
       " 'quite': 5550,\n",
       " 'bit': 1386,\n",
       " 'left': 4104,\n",
       " 'll': 4195,\n",
       " 'swing': 6670,\n",
       " 'tomorrow': 6963,\n",
       " 'petey': 5187,\n",
       " 'boy': 1495,\n",
       " 'whereare': 7503,\n",
       " 'friendsare': 3034,\n",
       " 'thekingshead': 6826,\n",
       " 'come': 1924,\n",
       " 'down': 2460,\n",
       " 'if': 3639,\n",
       " 'canlove': 1665,\n",
       " 'nic': 4796,\n",
       " 'ahmad': 883,\n",
       " 'dear': 2218,\n",
       " 'hero': 3452,\n",
       " 'leaving': 4100,\n",
       " 'qatar': 5530,\n",
       " 'tonite': 6974,\n",
       " 'apt': 1051,\n",
       " 'opportunity': 4987,\n",
       " 'pls': 5266,\n",
       " 'keep': 3943,\n",
       " 'touch': 7003,\n",
       " 'kerala': 3951,\n",
       " 'same': 5908,\n",
       " 'huh': 3584,\n",
       " 'fast': 2813,\n",
       " 'dat': 2196,\n",
       " 'means': 4452,\n",
       " 'painting': 5072,\n",
       " 'chance': 1753,\n",
       " 'reality': 5620,\n",
       " 'fantasy': 2807,\n",
       " 'show': 6150,\n",
       " '08707509020': 87,\n",
       " '20p': 353,\n",
       " 'ntt': 4869,\n",
       " 'po': 5275,\n",
       " 'box': 1479,\n",
       " '1327': 291,\n",
       " 'croydon': 2107,\n",
       " 'cr9': 2077,\n",
       " '5wb': 563,\n",
       " '0870': 70,\n",
       " 'national': 4732,\n",
       " 'rate': 5588,\n",
       " '2000': 344,\n",
       " '10': 255,\n",
       " '09066368753': 234,\n",
       " '97n7qp': 732,\n",
       " '150ppm': 306,\n",
       " 'hey': 3459,\n",
       " 'sathya': 5931,\n",
       " 'till': 6905,\n",
       " 'we': 7434,\n",
       " 'dint': 2365,\n",
       " 'meet': 4461,\n",
       " 'even': 2692,\n",
       " 'single': 6199,\n",
       " 'then': 6831,\n",
       " 'saw': 5943,\n",
       " 'situation': 6214,\n",
       " 'funny': 3079,\n",
       " 'fact': 2780,\n",
       " 'nobody': 4822,\n",
       " 'teaches': 6742,\n",
       " 'volcanoes': 7336,\n",
       " 'erupt': 2667,\n",
       " 'tsunamis': 7076,\n",
       " 'arise': 1072,\n",
       " 'hurricanes': 3598,\n",
       " 'sway': 6658,\n",
       " 'aroundn': 1083,\n",
       " 'hw': 3610,\n",
       " 'choose': 1827,\n",
       " 'wife': 7529,\n",
       " 'natural': 4735,\n",
       " 'disasters': 2379,\n",
       " 'happens': 3367,\n",
       " 'she': 6093,\n",
       " 'broke': 1549,\n",
       " 'list': 4176,\n",
       " 'reasons': 5627,\n",
       " 'town': 7009,\n",
       " 'tell': 6761,\n",
       " 'being': 1323,\n",
       " 'sarcastic': 5923,\n",
       " 'faggy': 2784,\n",
       " 'doesnt': 2422,\n",
       " 'need': 4755,\n",
       " 'test': 6786,\n",
       " 'nokia': 4828,\n",
       " 'mob': 4572,\n",
       " 'every': 2697,\n",
       " 'nok': 4827,\n",
       " '87021': 689,\n",
       " '1st': 333,\n",
       " 'txtin': 7109,\n",
       " 'friends': 3033,\n",
       " '150p': 302,\n",
       " '16': 312,\n",
       " 'hl': 3487,\n",
       " '4info': 522,\n",
       " 'working': 7606,\n",
       " 'technical': 6750,\n",
       " 'support': 6635,\n",
       " 'voice': 7333,\n",
       " 'process': 5450,\n",
       " 'networking': 4779,\n",
       " 'field': 2859,\n",
       " 'decide': 2227,\n",
       " 'eat': 2549,\n",
       " 'wants': 7398,\n",
       " 'chinese': 1818,\n",
       " 'thank': 6806,\n",
       " 'princess': 5424,\n",
       " 'nice': 4797,\n",
       " 'juicy': 3899,\n",
       " 'booty': 1458,\n",
       " 'big': 1366,\n",
       " 'hockey': 3499,\n",
       " 'elections': 2592,\n",
       " 'shouldn': 6145,\n",
       " 'longer': 4227,\n",
       " 'than': 6803,\n",
       " 'hour': 3552,\n",
       " 'though': 6870,\n",
       " 'aww': 1183,\n",
       " 'must': 4687,\n",
       " 'nearly': 4749,\n",
       " 'dead': 2214,\n",
       " 'well': 7472,\n",
       " 'jez': 3859,\n",
       " 'iscoming': 3783,\n",
       " 'over': 5041,\n",
       " 'todo': 6946,\n",
       " 'some': 6310,\n",
       " 'workand': 7604,\n",
       " 'whilltake': 7509,\n",
       " 'forever': 2973,\n",
       " 'class': 1854,\n",
       " 'holla': 3509,\n",
       " 'later': 4066,\n",
       " 'coming': 1930,\n",
       " 'funeral': 3076,\n",
       " 'home': 3513,\n",
       " 'private': 5432,\n",
       " '2003': 345,\n",
       " 'account': 787,\n",
       " 'statement': 6469,\n",
       " '07753741225': 28,\n",
       " 'shows': 6156,\n",
       " '800': 635,\n",
       " 'un': 7140,\n",
       " 'redeemed': 5660,\n",
       " 'points': 5297,\n",
       " '08715203677': 125,\n",
       " 'identifier': 3633,\n",
       " 'code': 1901,\n",
       " '42478': 488,\n",
       " 'expires': 2754,\n",
       " '24': 363,\n",
       " '04': 15,\n",
       " 'heard': 3417,\n",
       " 'about': 760,\n",
       " 'job': 3868,\n",
       " 'wildlife': 7535,\n",
       " 'talk': 6707,\n",
       " 'again': 864,\n",
       " 'want2come': 7395,\n",
       " 'that2worzels': 6816,\n",
       " 'wizzle': 7570,\n",
       " 'whatever': 7495,\n",
       " 'sale': 5898,\n",
       " 'arsenal': 1091,\n",
       " 'dartboard': 2193,\n",
       " 'condition': 1971,\n",
       " 'doubles': 2456,\n",
       " 'trebles': 7042,\n",
       " 'thats': 6818,\n",
       " 'weird': 7465,\n",
       " 'supposed': 6637,\n",
       " 'happening': 3366,\n",
       " 'idea': 3629,\n",
       " 'pub': 5500,\n",
       " 'rule': 5861,\n",
       " 'tamilnadu': 6714,\n",
       " 'very': 7286,\n",
       " 'tough': 7005,\n",
       " 'our': 5026,\n",
       " 'people': 5155,\n",
       " 'change': 1755,\n",
       " 'escalator': 2670,\n",
       " 'lol': 4219,\n",
       " 'what': 7494,\n",
       " 'vegas': 7274,\n",
       " 'stays': 6476,\n",
       " 'sorry': 6345,\n",
       " 'day': 2206,\n",
       " 'ever': 2696,\n",
       " 'angry': 976,\n",
       " 'misbehaved': 4538,\n",
       " 'hurt': 3601,\n",
       " 'plz': 5272,\n",
       " 'slap': 6233,\n",
       " 'urself': 7224,\n",
       " 'bcoz': 1279,\n",
       " 'fault': 2821,\n",
       " 'justbeen': 3911,\n",
       " 'overa': 5042,\n",
       " 'since': 6193,\n",
       " 'already': 932,\n",
       " 'brains': 1506,\n",
       " 'mush': 4683,\n",
       " 'says': 5948,\n",
       " 'year': 7684,\n",
       " 'old': 4949,\n",
       " 'money': 4599,\n",
       " 'last': 4062,\n",
       " 'still': 6497,\n",
       " 'waiting': 7372,\n",
       " 'check': 1782,\n",
       " 'life': 4137,\n",
       " 'never': 4783,\n",
       " 'been': 1306,\n",
       " 'fun': 3072,\n",
       " 'great': 3271,\n",
       " 'until': 7192,\n",
       " 'came': 1652,\n",
       " 'truly': 7062,\n",
       " 'special': 6378,\n",
       " 'forget': 2976,\n",
       " 'enjoy': 2629,\n",
       " 'gbp': 3124,\n",
       " 'sms': 6279,\n",
       " 'lacking': 4030,\n",
       " 'most': 4622,\n",
       " 'particular': 5104,\n",
       " 'dramastorm': 2472,\n",
       " 'details': 2306,\n",
       " 'part': 5102,\n",
       " 'worried': 7611,\n",
       " '09066350750': 223,\n",
       " 'landline': 4045,\n",
       " 'complimentary': 1954,\n",
       " 'ibiza': 3617,\n",
       " 'holiday': 3508,\n",
       " 'cash': 1703,\n",
       " 'await': 1175,\n",
       " 'collection': 1914,\n",
       " 'sae': 5886,\n",
       " 'cs': 2115,\n",
       " '434': 491,\n",
       " 'sk3': 6218,\n",
       " '8wp': 722,\n",
       " '150': 300,\n",
       " 'ppm': 5363,\n",
       " '18': 317,\n",
       " 'message': 4489,\n",
       " 'jamster': 3823,\n",
       " 'crazy': 2090,\n",
       " 'frog': 3048,\n",
       " 'poly': 5304,\n",
       " 'mad1': 4338,\n",
       " 'real': 5616,\n",
       " 'mad2': 4339,\n",
       " '88888': 708,\n",
       " 'sounds': 6356,\n",
       " 'only': 4967,\n",
       " 'eighth': 2581,\n",
       " 'awake': 1177,\n",
       " 'loving': 4272,\n",
       " 'kiss': 3984,\n",
       " 'mum': 4672,\n",
       " 'hope': 3529,\n",
       " 'having': 3400,\n",
       " 'hoping': 3535,\n",
       " 'meets': 4465,\n",
       " 'full': 3069,\n",
       " 'abiola': 756,\n",
       " 'amk': 948,\n",
       " 'drink': 2482,\n",
       " 'tea': 6738,\n",
       " 'coffee': 1902,\n",
       " 'okie': 4941,\n",
       " 'no1': 4821,\n",
       " '8007': 638,\n",
       " 'txting': 7110,\n",
       " 'mates': 4418,\n",
       " 'getzed': 3161,\n",
       " 'pobox': 5277,\n",
       " '36504': 448,\n",
       " 'w45wq': 7357,\n",
       " 'norm150p': 4841,\n",
       " 'didntgive': 2337,\n",
       " 'ya': 7669,\n",
       " 'bellearlier': 1327,\n",
       " 'hunny': 3595,\n",
       " 'bedbut': 1301,\n",
       " 'mite': 4553,\n",
       " 'thepub': 6835,\n",
       " 'l8tr': 4022,\n",
       " 'uwana': 7247,\n",
       " 'mt': 4656,\n",
       " 'loads': 4201,\n",
       " 'jenxxx': 3848,\n",
       " 'difference': 2345,\n",
       " 'versus': 7285,\n",
       " 'hrs': 3571,\n",
       " 'nights': 4806,\n",
       " 'staying': 6475,\n",
       " 'port': 5325,\n",
       " 'step': 6484,\n",
       " 'liao': 4129,\n",
       " 'too': 6977,\n",
       " 'ex': 2719,\n",
       " 'rite': 5811,\n",
       " 'ask': 1108,\n",
       " 're': 5604,\n",
       " 'confirm': 1978,\n",
       " 'wif': 7528,\n",
       " 'thanks': 6807,\n",
       " 'using': 7237,\n",
       " 'auction': 1149,\n",
       " 'subscription': 6581,\n",
       " 'service': 6050,\n",
       " 'msgrcvd': 4651,\n",
       " 'skip': 6225,\n",
       " 'out': 5029,\n",
       " 'unsubscribe': 7189,\n",
       " 'customercare': 2152,\n",
       " '08718726270': 141,\n",
       " 'actually': 809,\n",
       " 'fuck': 3058,\n",
       " 'find': 2887,\n",
       " 'excuse': 2729,\n",
       " 'tampa': 6715,\n",
       " 'point': 5296,\n",
       " 'january': 3829,\n",
       " 'finish': 2891,\n",
       " 'wanna': 7392,\n",
       " 'spend': 6393,\n",
       " 'evening': 2693,\n",
       " 'cos': 2042,\n",
       " 'would': 7621,\n",
       " 'vewy': 7288,\n",
       " 'lubly': 4289,\n",
       " 'xxx': 7660,\n",
       " 'needs': 4760,\n",
       " 'bed': 1300,\n",
       " 'fucking': 3061,\n",
       " 'dealing': 2217,\n",
       " 'fine': 2889,\n",
       " 'absolutly': 765,\n",
       " 'trying': 7069,\n",
       " 'contact': 2000,\n",
       " 'todays': 6945,\n",
       " 'draw': 2474,\n",
       " 'guaranteed': 3302,\n",
       " '09050001295': 166,\n",
       " 'land': 4043,\n",
       " 'line': 4162,\n",
       " 'claim': 1848,\n",
       " 'a21': 742,\n",
       " 'valid': 7257,\n",
       " '12hrs': 287,\n",
       " 'edison': 2560,\n",
       " 'rightly': 5798,\n",
       " 'said': 5893,\n",
       " 'fool': 2962,\n",
       " 'questions': 5545,\n",
       " 'wise': 7555,\n",
       " 'answer': 994,\n",
       " 'us': 7225,\n",
       " 'speechless': 6385,\n",
       " 'during': 2522,\n",
       " 'viva': 7326,\n",
       " 'gm': 3191,\n",
       " 'gn': 3192,\n",
       " 'ge': 3130,\n",
       " 'gnt': 3194,\n",
       " 'yar': 7675,\n",
       " 'else': 2596,\n",
       " 'thk': 6860,\n",
       " 'sorts': 6350,\n",
       " 'things': 6850,\n",
       " 'grandmas': 3260,\n",
       " 'oh': 4933,\n",
       " 'felt': 2846,\n",
       " 'shit': 6115,\n",
       " 'morning': 4617,\n",
       " 'hungover': 3592,\n",
       " 'night': 4804,\n",
       " 'leave': 4098,\n",
       " 'sat': 5928,\n",
       " 'guess': 3305,\n",
       " 'needa': 4756,\n",
       " 'mcat': 4442,\n",
       " 'study': 6554,\n",
       " 'hurting': 3602,\n",
       " 'meaningful': 4450,\n",
       " 'lines': 4165,\n",
       " 'compromised': 1957,\n",
       " 'everything': 2705,\n",
       " 'mornin': 4616,\n",
       " 'project': 5462,\n",
       " 'pa': 5059,\n",
       " 'after': 857,\n",
       " 'probably': 5441,\n",
       " 'motivate': 4626,\n",
       " 'behind': 1321,\n",
       " 'darkness': 2188,\n",
       " 'shining': 6108,\n",
       " 'light': 4145,\n",
       " 'friend': 3032,\n",
       " 'always': 940,\n",
       " 'trust': 7064,\n",
       " 'bslvyl': 1563,\n",
       " 'response': 5758,\n",
       " 'powerful': 5359,\n",
       " 'weapon': 7437,\n",
       " 'occupy': 4906,\n",
       " 'place': 5241,\n",
       " 'others': 5020,\n",
       " 'heart': 3420,\n",
       " 'give': 3180,\n",
       " 'cares': 1690,\n",
       " 'dreams': 2478,\n",
       " 'take': 6700,\n",
       " 'care': 1682,\n",
       " 'doing': 2433,\n",
       " 'srs': 6439,\n",
       " 'model': 4584,\n",
       " 'send': 6032,\n",
       " 'mail': 4355,\n",
       " 'id': 3627,\n",
       " 'yup': 7732,\n",
       " 'shop': 6129,\n",
       " 'closes': 1875,\n",
       " 'lor': 4241,\n",
       " 'suntec': 6625,\n",
       " 'wat': 7413,\n",
       " 'drive': 2486,\n",
       " 'read': 5611,\n",
       " 'write': 7630,\n",
       " 've': 7273,\n",
       " 'invited': 3762,\n",
       " 'xchat': 7652,\n",
       " 'final': 2882,\n",
       " '86688': 687,\n",
       " 'msgrcvdhg': 4653,\n",
       " 'suite342': 6605,\n",
       " '2lands': 395,\n",
       " 'row': 5842,\n",
       " 'w1j6hl': 7353,\n",
       " 'ldn': 4086,\n",
       " 'yrs': 7725,\n",
       " 'uncle': 7145,\n",
       " 'checking': 1785,\n",
       " 'rewarding': 5787,\n",
       " 'month': 4607,\n",
       " 'type': 7118,\n",
       " 'sing': 6196,\n",
       " 'review': 5784,\n",
       " 'fantastic': 2806,\n",
       " 'gage': 3090,\n",
       " 'game': 3100,\n",
       " 'deck': 2233,\n",
       " 'club': 1880,\n",
       " 'cnupdates': 1892,\n",
       " 'newsletter': 4791,\n",
       " 'alerts': 910,\n",
       " 'word': 7600,\n",
       " 'trouble': 7055,\n",
       " 'while': 7508,\n",
       " 'convincing': 2020,\n",
       " 'tel': 6756,\n",
       " 'once': 4959,\n",
       " 'twice': 7096,\n",
       " 'neglect': 4763,\n",
       " 'his': 3480,\n",
       " 'sir': 6204,\n",
       " '3510i': 445,\n",
       " 'colour': 1916,\n",
       " 'phone': 5199,\n",
       " 'deliveredtomorrow': 2265,\n",
       " '300': 423,\n",
       " 'minutes': 4534,\n",
       " '100': 256,\n",
       " 'texts': 6800,\n",
       " 'camcorder': 1651,\n",
       " '08000930705': 50,\n",
       " 'kadeem': 3920,\n",
       " 'sen': 6031,\n",
       " 'told': 6955,\n",
       " 'join': 3876,\n",
       " 'finance': 2885,\n",
       " 'cbe': 1723,\n",
       " 'complain': 1946,\n",
       " 'num': 4874,\n",
       " 'bettr': 1350,\n",
       " 'directly': 2369,\n",
       " 'bsnl': 1565,\n",
       " 'offc': 4915,\n",
       " 'nd': 4743,\n",
       " 'dun': 2516,\n",
       " 'believe': 1324,\n",
       " 'telling': 6762,\n",
       " 'treat': 7040,\n",
       " 'business': 1602,\n",
       " 'w4': 7356,\n",
       " '5wq': 566,\n",
       " 'norm': 4840,\n",
       " 'loans': 4203,\n",
       " 'purpose': 5517,\n",
       " 'bad': 1208,\n",
       " 'credit': 2094,\n",
       " 'tenants': 6770,\n",
       " 'welcome': 7470,\n",
       " 'noworriesloans': 4863,\n",
       " '08717111821': 130,\n",
       " 'yes': 7693,\n",
       " 'were': 7480,\n",
       " 'outside': 5034,\n",
       " 'hours': 3554,\n",
       " 'called': 1639,\n",
       " 'whole': 7515,\n",
       " 'family': 2799,\n",
       " 'wake': 7373,\n",
       " 'cause': 1718,\n",
       " 'started': 6462,\n",
       " 'fetch': 2849,\n",
       " 'yun': 7729,\n",
       " 'snow': 6292,\n",
       " 'weather': 7441,\n",
       " 'brings': 1541,\n",
       " 'ppl': 5361,\n",
       " 'together': 6948,\n",
       " 'friendships': 3036,\n",
       " 'grow': 3290,\n",
       " 'yet': 7696,\n",
       " 'offer': 4919,\n",
       " 'package': 5061,\n",
       " 'term': 6775,\n",
       " '54': 552,\n",
       " 'weeks': 7461,\n",
       " 'resubmit': 5769,\n",
       " 'request': 5737,\n",
       " 'expiry': 2755,\n",
       " 'themob': 6830,\n",
       " 'help': 3438,\n",
       " 'info': 3708,\n",
       " 'prob': 5440,\n",
       " 'effect': 2570,\n",
       " 'irritation': 3780,\n",
       " 'ignore': 3643,\n",
       " 'cine': 1842,\n",
       " 'plaza': 5259,\n",
       " 'mah': 4350,\n",
       " 'yogasana': 7704,\n",
       " 'coz': 2072,\n",
       " 'bathe': 1261,\n",
       " 'hav': 3391,\n",
       " 'steam': 6480,\n",
       " 'bath': 1260,\n",
       " 'thanx': 6812,\n",
       " 'school': 5959,\n",
       " 'matter': 4427,\n",
       " 'mind': 4519,\n",
       " 'other': 5019,\n",
       " 'yep': 7691,\n",
       " 'did': 2333,\n",
       " 'fireplace': 2900,\n",
       " 'icon': 3626,\n",
       " 'sitting': 6213,\n",
       " 'brother': 1554,\n",
       " 'alert': 908,\n",
       " 'computer': 1960,\n",
       " 'selected': 6018,\n",
       " '10k': 265,\n",
       " 'voucher': 7343,\n",
       " '09064018838': 213,\n",
       " 'cro1327': 2104,\n",
       " 'bt': 1567,\n",
       " 'cost': 2044,\n",
       " 'mobiles': 4575,\n",
       " 'vary': 7267,\n",
       " 'wow': 7625,\n",
       " 'realized': 5622,\n",
       " 'embarassed': 2602,\n",
       " 'accomodations': 784,\n",
       " 'thought': 6871,\n",
       " 'liked': 4149,\n",
       " 'could': 2054,\n",
       " 'seemed': 6011,\n",
       " 'happy': 3372,\n",
       " 'cave': 1721,\n",
       " 'didn': 2335,\n",
       " 'don': 2441,\n",
       " 'offered': 4920,\n",
       " 'room': 5831,\n",
       " 'embarassing': 2603,\n",
       " 'close': 1872,\n",
       " 'cum': 2135,\n",
       " 'wet': 7490,\n",
       " 'warm': 7401,\n",
       " 'ready': 5615,\n",
       " 'porn': 5324,\n",
       " 'recd': 5634,\n",
       " 'inc': 3678,\n",
       " 'vat': 7269,\n",
       " 'cancel': 1661,\n",
       " 'company': 1940,\n",
       " 'custom': 2150,\n",
       " 'officer': 4924,\n",
       " 'discount': 2385,\n",
       " 'tease': 6747,\n",
       " 'cry': 2113,\n",
       " 'die': 2338,\n",
       " 'rose': 5836,\n",
       " 'grave': 3265,\n",
       " 'stupid': 6563,\n",
       " 'miss': 4542,\n",
       " 'agree': 877,\n",
       " 'thinkin': 6853,\n",
       " 'ipad': 3769,\n",
       " 'please': 5260,\n",
       " 'macho': 4334,\n",
       " 'question': 5543,\n",
       " 'relatives': 5688,\n",
       " 'deliver': 2263,\n",
       " 'costs': 2047,\n",
       " 'risks': 5810,\n",
       " 'benefits': 1339,\n",
       " 'anything': 1010,\n",
       " 'missing': 4546,\n",
       " 'plenty': 5263,\n",
       " 'holy': 3512,\n",
       " 'living': 4193,\n",
       " 'christ': 1834,\n",
       " 'long': 4226,\n",
       " 'both': 1468,\n",
       " 'inside': 3728,\n",
       " 'bedroom': 1304,\n",
       " 'decimal': 2230,\n",
       " 'common': 1934,\n",
       " 'buy': 1609,\n",
       " 'china': 1817,\n",
       " 'asia': 1105,\n",
       " 'less': 4118,\n",
       " 'expensive': 2748,\n",
       " 'shld': 6122,\n",
       " 'wana': 7391,\n",
       " 'lessons': 4121,\n",
       " 'haha': 3332,\n",
       " 'stretch': 6533,\n",
       " 'guy': 3318,\n",
       " 'breathing': 1526,\n",
       " 'neck': 4752,\n",
       " 'bud': 1572,\n",
       " 'able': 758,\n",
       " 'half': 3341,\n",
       " 'track': 7013,\n",
       " 'usf': 7235,\n",
       " 'abt': 767,\n",
       " 'rows': 5843,\n",
       " 'two': 7102,\n",
       " 'def': 2244,\n",
       " 'sleep': 6235,\n",
       " 'regret': 5682,\n",
       " 'inform': 3709,\n",
       " 'nhs': 4794,\n",
       " 'mistake': 4551,\n",
       " 'born': 1463,\n",
       " 'report': 5733,\n",
       " 'yor': 7705,\n",
       " 'hospital': 3542,\n",
       " '2b': 380,\n",
       " 'terminated': 6776,\n",
       " 'inconvenience': 3689,\n",
       " 'advance': 836,\n",
       " 'pongal': 5311,\n",
       " 'ended': 2615,\n",
       " 'may': 4436,\n",
       " 'smile': 6269,\n",
       " 'sunny': 6621,\n",
       " 'rays': 5596,\n",
       " 'leaves': 4099,\n",
       " 'worries': 7612,\n",
       " 'blue': 1426,\n",
       " 'bay': 1267,\n",
       " 'mrng': 4645,\n",
       " 'gym': 3322,\n",
       " 'wa': 7359,\n",
       " 'efficient': 2572,\n",
       " 'gee': 3131,\n",
       " 'learn': 4095,\n",
       " 'convinced': 2019,\n",
       " 'wait': 7369,\n",
       " 'conversations': 2014,\n",
       " 'between': 1351,\n",
       " 'many': 4386,\n",
       " 'senses': 6038,\n",
       " 'respect': 5753,\n",
       " 'overemphasise': 5044,\n",
       " 'role': 5827,\n",
       " 'freezing': 3019,\n",
       " 'windy': 7542,\n",
       " 'watching': 7418,\n",
       " 'tv': 7092,\n",
       " 'dating': 2201,\n",
       " 'cant': 1669,\n",
       " '09058091854': 175,\n",
       " 'revealed': 5781,\n",
       " 'box385': 1487,\n",
       " 'm6': 4320,\n",
       " '6wu': 607,\n",
       " ...}"
      ]
     },
     "execution_count": 19,
     "metadata": {},
     "output_type": "execute_result"
    }
   ],
   "source": [
    "v.vocabulary_"
   ]
  },
  {
   "cell_type": "code",
   "execution_count": 20,
   "id": "a805af1f",
   "metadata": {},
   "outputs": [
    {
     "data": {
      "text/plain": [
       "array([0, 0, 0, ..., 0, 0, 0])"
      ]
     },
     "execution_count": 20,
     "metadata": {},
     "output_type": "execute_result"
    }
   ],
   "source": [
    "X_train_np = X_train_cv.toarray()\n",
    "X_train_np[0]"
   ]
  },
  {
   "cell_type": "code",
   "execution_count": 21,
   "id": "79aa94f4",
   "metadata": {},
   "outputs": [
    {
     "data": {
      "text/plain": [
       "(array([ 878, 1284, 2541, 2893, 3381, 3394, 3676, 3781, 3792, 3996, 4122,\n",
       "        4167, 4366, 4955, 6006, 6819, 6938, 7498, 7536, 7618, 7707]),)"
      ]
     },
     "execution_count": 21,
     "metadata": {},
     "output_type": "execute_result"
    }
   ],
   "source": [
    "np.where(X_train_np[0]!=0)"
   ]
  },
  {
   "cell_type": "code",
   "execution_count": 24,
   "id": "62198de1",
   "metadata": {},
   "outputs": [
    {
     "name": "stderr",
     "output_type": "stream",
     "text": [
      "/tmp/ipykernel_7380/3044687092.py:1: FutureWarning: The behavior of `series[i:j]` with an integer-dtype index is deprecated. In a future version, this will be treated as *label-based* indexing, consistent with e.g. `series[i]` lookups. To retain the old behavior, use `series.iloc[i:j]`. To get the future behavior, use `series.loc[i:j]`.\n",
      "  X_train[:4][1284]\n"
     ]
    },
    {
     "ename": "KeyError",
     "evalue": "1284",
     "output_type": "error",
     "traceback": [
      "\u001b[0;31m---------------------------------------------------------------------------\u001b[0m",
      "\u001b[0;31mKeyError\u001b[0m                                  Traceback (most recent call last)",
      "File \u001b[0;32m~/.local/lib/python3.10/site-packages/pandas/core/indexes/base.py:3803\u001b[0m, in \u001b[0;36mIndex.get_loc\u001b[0;34m(self, key, method, tolerance)\u001b[0m\n\u001b[1;32m   3802\u001b[0m \u001b[39mtry\u001b[39;00m:\n\u001b[0;32m-> 3803\u001b[0m     \u001b[39mreturn\u001b[39;00m \u001b[39mself\u001b[39;49m\u001b[39m.\u001b[39;49m_engine\u001b[39m.\u001b[39;49mget_loc(casted_key)\n\u001b[1;32m   3804\u001b[0m \u001b[39mexcept\u001b[39;00m \u001b[39mKeyError\u001b[39;00m \u001b[39mas\u001b[39;00m err:\n",
      "File \u001b[0;32m~/.local/lib/python3.10/site-packages/pandas/_libs/index.pyx:138\u001b[0m, in \u001b[0;36mpandas._libs.index.IndexEngine.get_loc\u001b[0;34m()\u001b[0m\n",
      "File \u001b[0;32m~/.local/lib/python3.10/site-packages/pandas/_libs/index.pyx:165\u001b[0m, in \u001b[0;36mpandas._libs.index.IndexEngine.get_loc\u001b[0;34m()\u001b[0m\n",
      "File \u001b[0;32mpandas/_libs/hashtable_class_helper.pxi:2263\u001b[0m, in \u001b[0;36mpandas._libs.hashtable.Int64HashTable.get_item\u001b[0;34m()\u001b[0m\n",
      "File \u001b[0;32mpandas/_libs/hashtable_class_helper.pxi:2273\u001b[0m, in \u001b[0;36mpandas._libs.hashtable.Int64HashTable.get_item\u001b[0;34m()\u001b[0m\n",
      "\u001b[0;31mKeyError\u001b[0m: 1284",
      "\nThe above exception was the direct cause of the following exception:\n",
      "\u001b[0;31mKeyError\u001b[0m                                  Traceback (most recent call last)",
      "Cell \u001b[0;32mIn[24], line 1\u001b[0m\n\u001b[0;32m----> 1\u001b[0m X_train[:\u001b[39m4\u001b[39;49m][\u001b[39m1284\u001b[39;49m]\n",
      "File \u001b[0;32m~/.local/lib/python3.10/site-packages/pandas/core/series.py:981\u001b[0m, in \u001b[0;36mSeries.__getitem__\u001b[0;34m(self, key)\u001b[0m\n\u001b[1;32m    978\u001b[0m     \u001b[39mreturn\u001b[39;00m \u001b[39mself\u001b[39m\u001b[39m.\u001b[39m_values[key]\n\u001b[1;32m    980\u001b[0m \u001b[39melif\u001b[39;00m key_is_scalar:\n\u001b[0;32m--> 981\u001b[0m     \u001b[39mreturn\u001b[39;00m \u001b[39mself\u001b[39;49m\u001b[39m.\u001b[39;49m_get_value(key)\n\u001b[1;32m    983\u001b[0m \u001b[39mif\u001b[39;00m is_hashable(key):\n\u001b[1;32m    984\u001b[0m     \u001b[39m# Otherwise index.get_value will raise InvalidIndexError\u001b[39;00m\n\u001b[1;32m    985\u001b[0m     \u001b[39mtry\u001b[39;00m:\n\u001b[1;32m    986\u001b[0m         \u001b[39m# For labels that don't resolve as scalars like tuples and frozensets\u001b[39;00m\n",
      "File \u001b[0;32m~/.local/lib/python3.10/site-packages/pandas/core/series.py:1089\u001b[0m, in \u001b[0;36mSeries._get_value\u001b[0;34m(self, label, takeable)\u001b[0m\n\u001b[1;32m   1086\u001b[0m     \u001b[39mreturn\u001b[39;00m \u001b[39mself\u001b[39m\u001b[39m.\u001b[39m_values[label]\n\u001b[1;32m   1088\u001b[0m \u001b[39m# Similar to Index.get_value, but we do not fall back to positional\u001b[39;00m\n\u001b[0;32m-> 1089\u001b[0m loc \u001b[39m=\u001b[39m \u001b[39mself\u001b[39;49m\u001b[39m.\u001b[39;49mindex\u001b[39m.\u001b[39;49mget_loc(label)\n\u001b[1;32m   1090\u001b[0m \u001b[39mreturn\u001b[39;00m \u001b[39mself\u001b[39m\u001b[39m.\u001b[39mindex\u001b[39m.\u001b[39m_get_values_for_loc(\u001b[39mself\u001b[39m, loc, label)\n",
      "File \u001b[0;32m~/.local/lib/python3.10/site-packages/pandas/core/indexes/base.py:3805\u001b[0m, in \u001b[0;36mIndex.get_loc\u001b[0;34m(self, key, method, tolerance)\u001b[0m\n\u001b[1;32m   3803\u001b[0m     \u001b[39mreturn\u001b[39;00m \u001b[39mself\u001b[39m\u001b[39m.\u001b[39m_engine\u001b[39m.\u001b[39mget_loc(casted_key)\n\u001b[1;32m   3804\u001b[0m \u001b[39mexcept\u001b[39;00m \u001b[39mKeyError\u001b[39;00m \u001b[39mas\u001b[39;00m err:\n\u001b[0;32m-> 3805\u001b[0m     \u001b[39mraise\u001b[39;00m \u001b[39mKeyError\u001b[39;00m(key) \u001b[39mfrom\u001b[39;00m \u001b[39merr\u001b[39;00m\n\u001b[1;32m   3806\u001b[0m \u001b[39mexcept\u001b[39;00m \u001b[39mTypeError\u001b[39;00m:\n\u001b[1;32m   3807\u001b[0m     \u001b[39m# If we have a listlike key, _check_indexing_error will raise\u001b[39;00m\n\u001b[1;32m   3808\u001b[0m     \u001b[39m#  InvalidIndexError. Otherwise we fall through and re-raise\u001b[39;00m\n\u001b[1;32m   3809\u001b[0m     \u001b[39m#  the TypeError.\u001b[39;00m\n\u001b[1;32m   3810\u001b[0m     \u001b[39mself\u001b[39m\u001b[39m.\u001b[39m_check_indexing_error(key)\n",
      "\u001b[0;31mKeyError\u001b[0m: 1284"
     ]
    }
   ],
   "source": [
    "X_train[:4][1284]"
   ]
  },
  {
   "cell_type": "code",
   "execution_count": 25,
   "id": "50a37c71",
   "metadata": {
    "scrolled": true
   },
   "outputs": [
    {
     "data": {
      "text/plain": [
       "0"
      ]
     },
     "execution_count": 25,
     "metadata": {},
     "output_type": "execute_result"
    }
   ],
   "source": [
    "X_train_np[0][1771]"
   ]
  },
  {
   "cell_type": "markdown",
   "id": "e6ea444a",
   "metadata": {},
   "source": [
    "<h3>Train the naive bayes model</h3>"
   ]
  },
  {
   "cell_type": "code",
   "execution_count": 26,
   "id": "bf02cecc",
   "metadata": {},
   "outputs": [
    {
     "data": {
      "text/html": [
       "<style>#sk-container-id-1 {color: black;background-color: white;}#sk-container-id-1 pre{padding: 0;}#sk-container-id-1 div.sk-toggleable {background-color: white;}#sk-container-id-1 label.sk-toggleable__label {cursor: pointer;display: block;width: 100%;margin-bottom: 0;padding: 0.3em;box-sizing: border-box;text-align: center;}#sk-container-id-1 label.sk-toggleable__label-arrow:before {content: \"▸\";float: left;margin-right: 0.25em;color: #696969;}#sk-container-id-1 label.sk-toggleable__label-arrow:hover:before {color: black;}#sk-container-id-1 div.sk-estimator:hover label.sk-toggleable__label-arrow:before {color: black;}#sk-container-id-1 div.sk-toggleable__content {max-height: 0;max-width: 0;overflow: hidden;text-align: left;background-color: #f0f8ff;}#sk-container-id-1 div.sk-toggleable__content pre {margin: 0.2em;color: black;border-radius: 0.25em;background-color: #f0f8ff;}#sk-container-id-1 input.sk-toggleable__control:checked~div.sk-toggleable__content {max-height: 200px;max-width: 100%;overflow: auto;}#sk-container-id-1 input.sk-toggleable__control:checked~label.sk-toggleable__label-arrow:before {content: \"▾\";}#sk-container-id-1 div.sk-estimator input.sk-toggleable__control:checked~label.sk-toggleable__label {background-color: #d4ebff;}#sk-container-id-1 div.sk-label input.sk-toggleable__control:checked~label.sk-toggleable__label {background-color: #d4ebff;}#sk-container-id-1 input.sk-hidden--visually {border: 0;clip: rect(1px 1px 1px 1px);clip: rect(1px, 1px, 1px, 1px);height: 1px;margin: -1px;overflow: hidden;padding: 0;position: absolute;width: 1px;}#sk-container-id-1 div.sk-estimator {font-family: monospace;background-color: #f0f8ff;border: 1px dotted black;border-radius: 0.25em;box-sizing: border-box;margin-bottom: 0.5em;}#sk-container-id-1 div.sk-estimator:hover {background-color: #d4ebff;}#sk-container-id-1 div.sk-parallel-item::after {content: \"\";width: 100%;border-bottom: 1px solid gray;flex-grow: 1;}#sk-container-id-1 div.sk-label:hover label.sk-toggleable__label {background-color: #d4ebff;}#sk-container-id-1 div.sk-serial::before {content: \"\";position: absolute;border-left: 1px solid gray;box-sizing: border-box;top: 0;bottom: 0;left: 50%;z-index: 0;}#sk-container-id-1 div.sk-serial {display: flex;flex-direction: column;align-items: center;background-color: white;padding-right: 0.2em;padding-left: 0.2em;position: relative;}#sk-container-id-1 div.sk-item {position: relative;z-index: 1;}#sk-container-id-1 div.sk-parallel {display: flex;align-items: stretch;justify-content: center;background-color: white;position: relative;}#sk-container-id-1 div.sk-item::before, #sk-container-id-1 div.sk-parallel-item::before {content: \"\";position: absolute;border-left: 1px solid gray;box-sizing: border-box;top: 0;bottom: 0;left: 50%;z-index: -1;}#sk-container-id-1 div.sk-parallel-item {display: flex;flex-direction: column;z-index: 1;position: relative;background-color: white;}#sk-container-id-1 div.sk-parallel-item:first-child::after {align-self: flex-end;width: 50%;}#sk-container-id-1 div.sk-parallel-item:last-child::after {align-self: flex-start;width: 50%;}#sk-container-id-1 div.sk-parallel-item:only-child::after {width: 0;}#sk-container-id-1 div.sk-dashed-wrapped {border: 1px dashed gray;margin: 0 0.4em 0.5em 0.4em;box-sizing: border-box;padding-bottom: 0.4em;background-color: white;}#sk-container-id-1 div.sk-label label {font-family: monospace;font-weight: bold;display: inline-block;line-height: 1.2em;}#sk-container-id-1 div.sk-label-container {text-align: center;}#sk-container-id-1 div.sk-container {/* jupyter's `normalize.less` sets `[hidden] { display: none; }` but bootstrap.min.css set `[hidden] { display: none !important; }` so we also need the `!important` here to be able to override the default hidden behavior on the sphinx rendered scikit-learn.org. See: https://github.com/scikit-learn/scikit-learn/issues/21755 */display: inline-block !important;position: relative;}#sk-container-id-1 div.sk-text-repr-fallback {display: none;}</style><div id=\"sk-container-id-1\" class=\"sk-top-container\"><div class=\"sk-text-repr-fallback\"><pre>MultinomialNB()</pre><b>In a Jupyter environment, please rerun this cell to show the HTML representation or trust the notebook. <br />On GitHub, the HTML representation is unable to render, please try loading this page with nbviewer.org.</b></div><div class=\"sk-container\" hidden><div class=\"sk-item\"><div class=\"sk-estimator sk-toggleable\"><input class=\"sk-toggleable__control sk-hidden--visually\" id=\"sk-estimator-id-1\" type=\"checkbox\" checked><label for=\"sk-estimator-id-1\" class=\"sk-toggleable__label sk-toggleable__label-arrow\">MultinomialNB</label><div class=\"sk-toggleable__content\"><pre>MultinomialNB()</pre></div></div></div></div></div>"
      ],
      "text/plain": [
       "MultinomialNB()"
      ]
     },
     "execution_count": 26,
     "metadata": {},
     "output_type": "execute_result"
    }
   ],
   "source": [
    "from sklearn.naive_bayes import MultinomialNB\n",
    "\n",
    "model = MultinomialNB()\n",
    "model.fit(X_train_cv, y_train)"
   ]
  },
  {
   "cell_type": "code",
   "execution_count": 27,
   "id": "94f569a6",
   "metadata": {},
   "outputs": [],
   "source": [
    "X_test_cv = v.transform(X_test)"
   ]
  },
  {
   "cell_type": "markdown",
   "id": "101b8b8d",
   "metadata": {},
   "source": [
    "<h3>Evaluate Performance</h3>"
   ]
  },
  {
   "cell_type": "code",
   "execution_count": 28,
   "id": "1c0cb441",
   "metadata": {},
   "outputs": [
    {
     "name": "stdout",
     "output_type": "stream",
     "text": [
      "              precision    recall  f1-score   support\n",
      "\n",
      "           0       0.99      1.00      0.99       963\n",
      "           1       0.97      0.91      0.94       152\n",
      "\n",
      "    accuracy                           0.98      1115\n",
      "   macro avg       0.98      0.95      0.96      1115\n",
      "weighted avg       0.98      0.98      0.98      1115\n",
      "\n"
     ]
    }
   ],
   "source": [
    "from sklearn.metrics import classification_report\n",
    "\n",
    "y_pred = model.predict(X_test_cv)\n",
    "\n",
    "print(classification_report(y_test, y_pred))"
   ]
  },
  {
   "cell_type": "code",
   "execution_count": 30,
   "id": "27dcf0b7",
   "metadata": {
    "scrolled": true
   },
   "outputs": [
    {
     "data": {
      "text/plain": [
       "array([0, 1])"
      ]
     },
     "execution_count": 30,
     "metadata": {},
     "output_type": "execute_result"
    }
   ],
   "source": [
    "emails = [\n",
    "    'Hey mohan, can we get together to watch footbal game tomorrow?',\n",
    "    'Upto 20% discount on parking, exclusive offer just for you. Dont miss this reward!'\n",
    "]\n",
    "\n",
    "emails_count = v.transform(emails)\n",
    "model.predict(emails_count)"
   ]
  },
  {
   "cell_type": "markdown",
   "id": "22c9e2e2",
   "metadata": {},
   "source": [
    "<h3>Train the model using sklearn pipeline and reduce number of lines of code</h3>"
   ]
  },
  {
   "cell_type": "code",
   "execution_count": 29,
   "id": "863f5ffa",
   "metadata": {},
   "outputs": [],
   "source": [
    "from sklearn.pipeline import Pipeline\n",
    "\n",
    "clf = Pipeline([\n",
    "    ('vectorizer', CountVectorizer()),\n",
    "    ('nb', MultinomialNB())\n",
    "])"
   ]
  },
  {
   "cell_type": "code",
   "execution_count": 31,
   "id": "26ecc1d4",
   "metadata": {},
   "outputs": [
    {
     "data": {
      "text/html": [
       "<style>#sk-container-id-2 {color: black;background-color: white;}#sk-container-id-2 pre{padding: 0;}#sk-container-id-2 div.sk-toggleable {background-color: white;}#sk-container-id-2 label.sk-toggleable__label {cursor: pointer;display: block;width: 100%;margin-bottom: 0;padding: 0.3em;box-sizing: border-box;text-align: center;}#sk-container-id-2 label.sk-toggleable__label-arrow:before {content: \"▸\";float: left;margin-right: 0.25em;color: #696969;}#sk-container-id-2 label.sk-toggleable__label-arrow:hover:before {color: black;}#sk-container-id-2 div.sk-estimator:hover label.sk-toggleable__label-arrow:before {color: black;}#sk-container-id-2 div.sk-toggleable__content {max-height: 0;max-width: 0;overflow: hidden;text-align: left;background-color: #f0f8ff;}#sk-container-id-2 div.sk-toggleable__content pre {margin: 0.2em;color: black;border-radius: 0.25em;background-color: #f0f8ff;}#sk-container-id-2 input.sk-toggleable__control:checked~div.sk-toggleable__content {max-height: 200px;max-width: 100%;overflow: auto;}#sk-container-id-2 input.sk-toggleable__control:checked~label.sk-toggleable__label-arrow:before {content: \"▾\";}#sk-container-id-2 div.sk-estimator input.sk-toggleable__control:checked~label.sk-toggleable__label {background-color: #d4ebff;}#sk-container-id-2 div.sk-label input.sk-toggleable__control:checked~label.sk-toggleable__label {background-color: #d4ebff;}#sk-container-id-2 input.sk-hidden--visually {border: 0;clip: rect(1px 1px 1px 1px);clip: rect(1px, 1px, 1px, 1px);height: 1px;margin: -1px;overflow: hidden;padding: 0;position: absolute;width: 1px;}#sk-container-id-2 div.sk-estimator {font-family: monospace;background-color: #f0f8ff;border: 1px dotted black;border-radius: 0.25em;box-sizing: border-box;margin-bottom: 0.5em;}#sk-container-id-2 div.sk-estimator:hover {background-color: #d4ebff;}#sk-container-id-2 div.sk-parallel-item::after {content: \"\";width: 100%;border-bottom: 1px solid gray;flex-grow: 1;}#sk-container-id-2 div.sk-label:hover label.sk-toggleable__label {background-color: #d4ebff;}#sk-container-id-2 div.sk-serial::before {content: \"\";position: absolute;border-left: 1px solid gray;box-sizing: border-box;top: 0;bottom: 0;left: 50%;z-index: 0;}#sk-container-id-2 div.sk-serial {display: flex;flex-direction: column;align-items: center;background-color: white;padding-right: 0.2em;padding-left: 0.2em;position: relative;}#sk-container-id-2 div.sk-item {position: relative;z-index: 1;}#sk-container-id-2 div.sk-parallel {display: flex;align-items: stretch;justify-content: center;background-color: white;position: relative;}#sk-container-id-2 div.sk-item::before, #sk-container-id-2 div.sk-parallel-item::before {content: \"\";position: absolute;border-left: 1px solid gray;box-sizing: border-box;top: 0;bottom: 0;left: 50%;z-index: -1;}#sk-container-id-2 div.sk-parallel-item {display: flex;flex-direction: column;z-index: 1;position: relative;background-color: white;}#sk-container-id-2 div.sk-parallel-item:first-child::after {align-self: flex-end;width: 50%;}#sk-container-id-2 div.sk-parallel-item:last-child::after {align-self: flex-start;width: 50%;}#sk-container-id-2 div.sk-parallel-item:only-child::after {width: 0;}#sk-container-id-2 div.sk-dashed-wrapped {border: 1px dashed gray;margin: 0 0.4em 0.5em 0.4em;box-sizing: border-box;padding-bottom: 0.4em;background-color: white;}#sk-container-id-2 div.sk-label label {font-family: monospace;font-weight: bold;display: inline-block;line-height: 1.2em;}#sk-container-id-2 div.sk-label-container {text-align: center;}#sk-container-id-2 div.sk-container {/* jupyter's `normalize.less` sets `[hidden] { display: none; }` but bootstrap.min.css set `[hidden] { display: none !important; }` so we also need the `!important` here to be able to override the default hidden behavior on the sphinx rendered scikit-learn.org. See: https://github.com/scikit-learn/scikit-learn/issues/21755 */display: inline-block !important;position: relative;}#sk-container-id-2 div.sk-text-repr-fallback {display: none;}</style><div id=\"sk-container-id-2\" class=\"sk-top-container\"><div class=\"sk-text-repr-fallback\"><pre>Pipeline(steps=[(&#x27;vectorizer&#x27;, CountVectorizer()), (&#x27;nb&#x27;, MultinomialNB())])</pre><b>In a Jupyter environment, please rerun this cell to show the HTML representation or trust the notebook. <br />On GitHub, the HTML representation is unable to render, please try loading this page with nbviewer.org.</b></div><div class=\"sk-container\" hidden><div class=\"sk-item sk-dashed-wrapped\"><div class=\"sk-label-container\"><div class=\"sk-label sk-toggleable\"><input class=\"sk-toggleable__control sk-hidden--visually\" id=\"sk-estimator-id-2\" type=\"checkbox\" ><label for=\"sk-estimator-id-2\" class=\"sk-toggleable__label sk-toggleable__label-arrow\">Pipeline</label><div class=\"sk-toggleable__content\"><pre>Pipeline(steps=[(&#x27;vectorizer&#x27;, CountVectorizer()), (&#x27;nb&#x27;, MultinomialNB())])</pre></div></div></div><div class=\"sk-serial\"><div class=\"sk-item\"><div class=\"sk-estimator sk-toggleable\"><input class=\"sk-toggleable__control sk-hidden--visually\" id=\"sk-estimator-id-3\" type=\"checkbox\" ><label for=\"sk-estimator-id-3\" class=\"sk-toggleable__label sk-toggleable__label-arrow\">CountVectorizer</label><div class=\"sk-toggleable__content\"><pre>CountVectorizer()</pre></div></div></div><div class=\"sk-item\"><div class=\"sk-estimator sk-toggleable\"><input class=\"sk-toggleable__control sk-hidden--visually\" id=\"sk-estimator-id-4\" type=\"checkbox\" ><label for=\"sk-estimator-id-4\" class=\"sk-toggleable__label sk-toggleable__label-arrow\">MultinomialNB</label><div class=\"sk-toggleable__content\"><pre>MultinomialNB()</pre></div></div></div></div></div></div></div>"
      ],
      "text/plain": [
       "Pipeline(steps=[('vectorizer', CountVectorizer()), ('nb', MultinomialNB())])"
      ]
     },
     "execution_count": 31,
     "metadata": {},
     "output_type": "execute_result"
    }
   ],
   "source": [
    "clf.fit(X_train, y_train)"
   ]
  },
  {
   "cell_type": "code",
   "execution_count": 32,
   "id": "e7d9b00b",
   "metadata": {},
   "outputs": [
    {
     "name": "stdout",
     "output_type": "stream",
     "text": [
      "              precision    recall  f1-score   support\n",
      "\n",
      "           0       0.99      1.00      0.99       963\n",
      "           1       0.97      0.91      0.94       152\n",
      "\n",
      "    accuracy                           0.98      1115\n",
      "   macro avg       0.98      0.95      0.96      1115\n",
      "weighted avg       0.98      0.98      0.98      1115\n",
      "\n"
     ]
    }
   ],
   "source": [
    "y_pred = clf.predict(X_test)\n",
    "\n",
    "print(classification_report(y_test, y_pred))"
   ]
  }
 ],
 "metadata": {
  "kernelspec": {
   "display_name": "Python 3",
   "language": "python",
   "name": "python3"
  },
  "language_info": {
   "codemirror_mode": {
    "name": "ipython",
    "version": 3
   },
   "file_extension": ".py",
   "mimetype": "text/x-python",
   "name": "python",
   "nbconvert_exporter": "python",
   "pygments_lexer": "ipython3",
   "version": "3.10.4"
  },
  "vscode": {
   "interpreter": {
    "hash": "3ad933181bd8a04b432d3370b9dc3b0662ad032c4dfaa4e4f1596c548f763858"
   }
  }
 },
 "nbformat": 4,
 "nbformat_minor": 5
}
